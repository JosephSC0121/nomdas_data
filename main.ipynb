{
 "cells": [
  {
   "cell_type": "code",
   "execution_count": 19,
   "metadata": {},
   "outputs": [
    {
     "name": "stdout",
     "output_type": "stream",
     "text": [
      "Requirement already satisfied: requests in ./.venv/lib/python3.12/site-packages (2.32.3)\n",
      "Requirement already satisfied: bs4 in ./.venv/lib/python3.12/site-packages (0.0.2)\n",
      "Requirement already satisfied: pathlib in ./.venv/lib/python3.12/site-packages (1.0.1)\n",
      "Requirement already satisfied: numpy in ./.venv/lib/python3.12/site-packages (2.2.4)\n",
      "Requirement already satisfied: xarray in ./.venv/lib/python3.12/site-packages (2025.3.1)\n",
      "Requirement already satisfied: boto3 in ./.venv/lib/python3.12/site-packages (1.37.33)\n",
      "Collecting dotenv\n",
      "  Downloading dotenv-0.9.9-py2.py3-none-any.whl.metadata (279 bytes)\n",
      "Requirement already satisfied: charset-normalizer<4,>=2 in ./.venv/lib/python3.12/site-packages (from requests) (3.4.1)\n",
      "Requirement already satisfied: idna<4,>=2.5 in ./.venv/lib/python3.12/site-packages (from requests) (3.10)\n",
      "Requirement already satisfied: urllib3<3,>=1.21.1 in ./.venv/lib/python3.12/site-packages (from requests) (2.4.0)\n",
      "Requirement already satisfied: certifi>=2017.4.17 in ./.venv/lib/python3.12/site-packages (from requests) (2025.1.31)\n",
      "Requirement already satisfied: beautifulsoup4 in ./.venv/lib/python3.12/site-packages (from bs4) (4.13.3)\n",
      "Requirement already satisfied: packaging>=23.2 in ./.venv/lib/python3.12/site-packages (from xarray) (24.2)\n",
      "Requirement already satisfied: pandas>=2.1 in ./.venv/lib/python3.12/site-packages (from xarray) (2.2.3)\n",
      "Requirement already satisfied: botocore<1.38.0,>=1.37.33 in ./.venv/lib/python3.12/site-packages (from boto3) (1.37.33)\n",
      "Requirement already satisfied: jmespath<2.0.0,>=0.7.1 in ./.venv/lib/python3.12/site-packages (from boto3) (1.0.1)\n",
      "Requirement already satisfied: s3transfer<0.12.0,>=0.11.0 in ./.venv/lib/python3.12/site-packages (from boto3) (0.11.4)\n",
      "Collecting python-dotenv (from dotenv)\n",
      "  Downloading python_dotenv-1.1.0-py3-none-any.whl.metadata (24 kB)\n",
      "Requirement already satisfied: python-dateutil<3.0.0,>=2.1 in ./.venv/lib/python3.12/site-packages (from botocore<1.38.0,>=1.37.33->boto3) (2.9.0.post0)\n",
      "Requirement already satisfied: pytz>=2020.1 in ./.venv/lib/python3.12/site-packages (from pandas>=2.1->xarray) (2025.2)\n",
      "Requirement already satisfied: tzdata>=2022.7 in ./.venv/lib/python3.12/site-packages (from pandas>=2.1->xarray) (2025.2)\n",
      "Requirement already satisfied: soupsieve>1.2 in ./.venv/lib/python3.12/site-packages (from beautifulsoup4->bs4) (2.6)\n",
      "Requirement already satisfied: typing-extensions>=4.0.0 in ./.venv/lib/python3.12/site-packages (from beautifulsoup4->bs4) (4.13.2)\n",
      "Requirement already satisfied: six>=1.5 in ./.venv/lib/python3.12/site-packages (from python-dateutil<3.0.0,>=2.1->botocore<1.38.0,>=1.37.33->boto3) (1.17.0)\n",
      "Downloading dotenv-0.9.9-py2.py3-none-any.whl (1.9 kB)\n",
      "Downloading python_dotenv-1.1.0-py3-none-any.whl (20 kB)\n",
      "Installing collected packages: python-dotenv, dotenv\n",
      "Successfully installed dotenv-0.9.9 python-dotenv-1.1.0\n",
      "Note: you may need to restart the kernel to use updated packages.\n"
     ]
    }
   ],
   "source": [
    "pip install requests bs4 pathlib numpy xarray boto3 dotenv"
   ]
  },
  {
   "cell_type": "code",
   "execution_count": 20,
   "metadata": {},
   "outputs": [],
   "source": [
    "from pathlib import Path\n",
    "import requests\n",
    "from bs4 import BeautifulSoup\n",
    "import xarray as xr\n",
    "import numpy as np\n",
    "import json\n",
    "from datetime import datetime\n",
    "import boto3"
   ]
  },
  {
   "cell_type": "code",
   "execution_count": 21,
   "metadata": {},
   "outputs": [
    {
     "name": "stdout",
     "output_type": "stream",
     "text": [
      "Hora más reciente disponible: 12Z\n"
     ]
    }
   ],
   "source": [
    "fecha_hoy = datetime.now().strftime(\"%Y%m%d\")\n",
    "horas_validas = [\"00\", \"06\", \"12\", \"18\"]\n",
    "\n",
    "base_url = f\"https://nomads.ncep.noaa.gov/pub/data/nccf/com/gfs/prod/gfs.{fecha_hoy}/\"\n",
    "html = requests.get(base_url).text\n",
    "soup = BeautifulSoup(html, \"html.parser\")\n",
    "\n",
    "hora_disponible = None\n",
    "for h in reversed(horas_validas):\n",
    "    if soup.find(\"a\", href=f\"{h}/\"):\n",
    "        hora_disponible = h\n",
    "        break\n",
    "\n",
    "if not hora_disponible:\n",
    "    raise Exception(\"No se encontró hora válida para hoy.\")\n",
    "\n",
    "print(f\"Hora más reciente disponible: {hora_disponible}Z\")"
   ]
  },
  {
   "cell_type": "code",
   "execution_count": 22,
   "metadata": {},
   "outputs": [
    {
     "name": "stdout",
     "output_type": "stream",
     "text": [
      "Archivo ya existe, no se descarga de nuevo.\n"
     ]
    }
   ],
   "source": [
    "\n",
    "filename = f\"gfs.t{hora_disponible}z.atmf000.nc\"\n",
    "download_url = f\"{base_url}{hora_disponible}/atmos/{filename}\"\n",
    "local_path = filename\n",
    "\n",
    "if not Path(local_path).exists():\n",
    "    print(\"Descargando archivo...\")\n",
    "    with requests.get(download_url, stream=True) as r:\n",
    "        r.raise_for_status()\n",
    "        with open(local_path, 'wb') as f:\n",
    "            for chunk in r.iter_content(chunk_size=8192):\n",
    "                f.write(chunk)\n",
    "    print(\"Descarga completa.\")\n",
    "else:\n",
    "    print(\"Archivo ya existe, no se descarga de nuevo.\")"
   ]
  },
  {
   "cell_type": "code",
   "execution_count": 23,
   "metadata": {},
   "outputs": [
    {
     "name": "stdout",
     "output_type": "stream",
     "text": [
      "GeoJSON creado: wind.geojson ✅\n"
     ]
    }
   ],
   "source": [
    "ds = xr.open_dataset(local_path)\n",
    "\n",
    "u = ds['ugrd'].isel(time=0, pfull=-1)\n",
    "v = ds['vgrd'].isel(time=0, pfull=-1)\n",
    "lons = ds['lon'].values\n",
    "lats = ds['lat'].values\n",
    "\n",
    "u_vals = u.values\n",
    "v_vals = v.values\n",
    "\n",
    "features = []\n",
    "step = 20  \n",
    "\n",
    "for i in range(0, lats.shape[0], step):\n",
    "    for j in range(0, lats.shape[1], step):\n",
    "        lon = float(lons[i][j])\n",
    "        lat = float(lats[i][j])\n",
    "        u_val = float(u_vals[i][j])\n",
    "        v_val = float(v_vals[i][j])\n",
    "        speed = np.sqrt(u_val**2 + v_val**2)\n",
    "        direction = np.arctan2(v_val, u_val) * 180 / np.pi\n",
    "\n",
    "        features.append({\n",
    "            \"type\": \"Feature\",\n",
    "            \"geometry\": {\"type\": \"Point\", \"coordinates\": [lon, lat]},\n",
    "            \"properties\": {\n",
    "                \"u\": u_val,\n",
    "                \"v\": v_val,\n",
    "                \"speed\": speed,\n",
    "                \"direction\": direction\n",
    "            }\n",
    "        })\n",
    "\n",
    "geojson = {\n",
    "    \"type\": \"FeatureCollection\",\n",
    "    \"features\": features\n",
    "}\n",
    "\n",
    "geojson_filename = \"wind.geojson\"\n",
    "with open(geojson_filename, \"w\") as f:\n",
    "    json.dump(geojson, f)\n",
    "\n",
    "print(\"GeoJSON creado: wind.geojson ✅\")\n",
    "\n"
   ]
  },
  {
   "cell_type": "code",
   "execution_count": 24,
   "metadata": {},
   "outputs": [
    {
     "name": "stdout",
     "output_type": "stream",
     "text": [
      "nomdas-data\n",
      "Error al subir a S3: Unable to locate credentials\n"
     ]
    }
   ],
   "source": [
    "from dotenv import load_dotenv\n",
    "import os\n",
    "\n",
    "load_dotenv() \n",
    "\n",
    "s3_bucket = os.getenv(\"S3_BUCKET\")\n",
    "s3_key = f\"wind/{fecha_hoy}/wind_{hora_disponible}Z.geojson\"  \n",
    "s3 = boto3.client(\"s3\")\n",
    "\n",
    "try:\n",
    "    s3.upload_file(geojson_filename, s3_bucket, s3_key)\n",
    "    print(f\"Archivo subido a S3: s3://{s3_bucket}/{s3_key} ✅\")\n",
    "except Exception as e:\n",
    "    print(f\"Error al subir a S3: {e}\")"
   ]
  }
 ],
 "metadata": {
  "kernelspec": {
   "display_name": ".venv",
   "language": "python",
   "name": "python3"
  },
  "language_info": {
   "codemirror_mode": {
    "name": "ipython",
    "version": 3
   },
   "file_extension": ".py",
   "mimetype": "text/x-python",
   "name": "python",
   "nbconvert_exporter": "python",
   "pygments_lexer": "ipython3",
   "version": "3.12.3"
  }
 },
 "nbformat": 4,
 "nbformat_minor": 2
}
